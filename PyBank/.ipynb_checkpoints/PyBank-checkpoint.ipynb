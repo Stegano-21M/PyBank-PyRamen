{
 "cells": [
  {
   "cell_type": "code",
   "execution_count": 14,
   "id": "cd71bd06-912f-4cbc-9445-94c877e7d42f",
   "metadata": {},
   "outputs": [
    {
     "name": "stdout",
     "output_type": "stream",
     "text": [
      "Financial Analysis\n",
      "-------------------------------------------\n",
      "Total Months: 86\n",
      "Net Profit: 38382578\n",
      "Average Monthly Change: -2315.12\n",
      "Greatest Increase in Profits: ('Feb-2012', 1926159)\n",
      "Greatest Loss In Profits: ('Sep-2013', -2196167)\n"
     ]
    }
   ],
   "source": [
    "import os\n",
    "import csv\n",
    "\n",
    "bank_csv = os.path.join('02-Python_Unit 2 Homework_PyBank_Resources_budget_data.csv')\n",
    "\n",
    "def analyze_bank(data):\n",
    "\n",
    "    monthsCount = 0\n",
    "    netProfit = 0\n",
    "    monthList = []\n",
    "    monthProfit = 0\n",
    "    change = 0\n",
    "    changeList = []\n",
    "\n",
    "    for row in data:\n",
    "        monthsCount += 1\n",
    "        netProfit += int(row[1])\n",
    "        monthList.append(str(row[0]))\n",
    "        if change != 0:\n",
    "            monthProfit = int(row[1])\n",
    "            change = monthProfit - change\n",
    "            changeList.append(change)\n",
    "            change = int(row[1])\n",
    "        elif change == 0:\n",
    "            change = int(row[1])  \n",
    "    monthList.pop(0)\n",
    "    indxmax = changeList.index(max(changeList))\n",
    "    indxmin = changeList.index(min(changeList))\n",
    "    maxChange = (monthList[int(indxmax)], max(changeList))\n",
    "    minChange = (monthList[int(indxmin)], min(changeList))\n",
    "    average = sum(changeList)/float(len(changeList))\n",
    "    average = round(average,2)\n",
    "\n",
    "    print(f'Financial Analysis')\n",
    "    print(f'-------------------------------------------')\n",
    "    print(f'Total Months: {monthsCount}')\n",
    "    print(f'Net Profit: {netProfit}')\n",
    "    print(f'Average Monthly Change: {average}')\n",
    "    print(f'Greatest Increase in Profits: {maxChange}')\n",
    "    print(f'Greatest Loss In Profits: {minChange}')\n",
    "\n",
    "    bank_output = os.path.join(\"PyBankResults.txt\")    \n",
    "\n",
    "    with open(bank_output, 'w') as txtfile:\n",
    "        txtfile.write('Financial Analysis')\n",
    "        txtfile.write('\\n------------------------------------')\n",
    "        txtfile.write(f'\\nTotal Months: {monthsCount}')\n",
    "        txtfile.write(f'\\nNet Profit: {netProfit}')\n",
    "        txtfile.write(f'\\nAverage Monthly Change: {average}')\n",
    "        txtfile.write(f'\\nGreatest Increase In Profits: {maxChange}')\n",
    "        txtfile.write(f'\\nGreatest Loss In Profits: {minChange}')\n",
    "\n",
    "with open(bank_csv, 'r', newline='') as csvfile:\n",
    "    csvreader = csv.reader(csvfile, delimiter=',')\n",
    "    csv_header = next(csvfile)\n",
    "    analyze_bank(csvreader)"
   ]
  },
  {
   "cell_type": "code",
   "execution_count": null,
   "id": "eac2e42b-9725-47e2-922b-281181cbe350",
   "metadata": {},
   "outputs": [],
   "source": []
  },
  {
   "cell_type": "code",
   "execution_count": null,
   "id": "d1ce75cd-d607-43a7-8440-6b3b46b2ea7f",
   "metadata": {},
   "outputs": [],
   "source": []
  }
 ],
 "metadata": {
  "kernelspec": {
   "display_name": "Python 3",
   "language": "python",
   "name": "python3"
  },
  "language_info": {
   "codemirror_mode": {
    "name": "ipython",
    "version": 3
   },
   "file_extension": ".py",
   "mimetype": "text/x-python",
   "name": "python",
   "nbconvert_exporter": "python",
   "pygments_lexer": "ipython3",
   "version": "3.8.5"
  }
 },
 "nbformat": 4,
 "nbformat_minor": 5
}
