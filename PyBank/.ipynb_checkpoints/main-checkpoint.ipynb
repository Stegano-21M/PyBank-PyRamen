{
 "cells": [
  {
   "cell_type": "code",
   "execution_count": 40,
   "id": "98bd667d-e23c-401d-9b4b-7c49d4e1bb71",
   "metadata": {
    "tags": []
   },
   "outputs": [
    {
     "name": "stdout",
     "output_type": "stream",
     "text": [
      "Financial Analysis\n",
      "\n",
      "*******************\n",
      "\n",
      "Total Months: 85\n",
      "Total Pnl: $37514694\n",
      "Average Change: -30103.43\n",
      "Greatest Increase in Profit: Feb-2010 ($984655)\n",
      "Greatest Decrease in Profits:Sep-2013 ($-2196167)\n"
     ]
    }
   ],
   "source": [
    "import csv\n",
    "csvpath = os.path.join('budget_data.csv')\n",
    "with open(csvpath, newline= '') as csvfile:\n",
    "    csvreader = csv.reader(csvfile, delimiter= ',')\n",
    "    csv_header = next(csvreader, None)\n",
    "    change = 0\n",
    "    all_month = 0\n",
    "    all_pnl= 0\n",
    "    avg = 0\n",
    "    n = 0\n",
    "    m = 0\n",
    "    for row in csvreader:\n",
    "        all_month += 1\n",
    "        all_pnl += int(row[1])\n",
    "        if int(row[1]) - avg_chg > n:\n",
    "            n = int(row[1]) - avg\n",
    "            hip = row[0]\n",
    "        elif int(row[1]) - avg < m:\n",
    "            m = int(row[1]) - avg\n",
    "            hdp = row[0]\n",
    "            change += int(row[1])\n",
    "        avg = int(row[1])\n",
    "    print ('Financial Analysis\\n')\n",
    "    print('*******************\\n')\n",
    "    print(f'Total Months: '+str(all_month) + '')\n",
    "    print(f'Total Pnl: $'+str(all_pnl) +'' )\n",
    "    print(f\"Average Change: \"+str(round((change/(all_month-1)),2)) +\"\" )\n",
    "    print(f'Greatest Increase in Profit: '+hip+' ($'+str(n) + ')')\n",
    "    print(f'Greatest Decrease in Profits:'+hdp+' ($'+str(m) + ')')"
   ]
  },
  {
   "cell_type": "code",
   "execution_count": null,
   "id": "cdeb740d-7c50-4199-8527-682ed0aef023",
   "metadata": {},
   "outputs": [],
   "source": []
  },
  {
   "cell_type": "code",
   "execution_count": null,
   "id": "bb1e087a-df1c-4058-9536-490bf0a1bb49",
   "metadata": {},
   "outputs": [],
   "source": []
  }
 ],
 "metadata": {
  "kernelspec": {
   "display_name": "Python 3",
   "language": "python",
   "name": "python3"
  },
  "language_info": {
   "codemirror_mode": {
    "name": "ipython",
    "version": 3
   },
   "file_extension": ".py",
   "mimetype": "text/x-python",
   "name": "python",
   "nbconvert_exporter": "python",
   "pygments_lexer": "ipython3",
   "version": "3.8.5"
  }
 },
 "nbformat": 4,
 "nbformat_minor": 5
}
